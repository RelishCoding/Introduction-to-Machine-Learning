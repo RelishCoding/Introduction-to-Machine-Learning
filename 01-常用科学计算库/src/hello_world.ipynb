{
 "cells": [
  {
   "cell_type": "markdown",
   "id": "e036f2d0-f7bc-403c-ba5e-6b57911709fc",
   "metadata": {},
   "source": [
    "# 1、hello_world"
   ]
  },
  {
   "cell_type": "code",
   "execution_count": 1,
   "id": "c089bad2-4db9-4e23-a797-7c00e0c03181",
   "metadata": {},
   "outputs": [
    {
     "name": "stdout",
     "output_type": "stream",
     "text": [
      "hello world\n"
     ]
    }
   ],
   "source": [
    "print(\"hello world\")"
   ]
  },
  {
   "cell_type": "code",
   "execution_count": 4,
   "id": "713377f2-e109-453d-bb9e-c02b36dc4b33",
   "metadata": {},
   "outputs": [
    {
     "data": {
      "text/plain": [
       "3"
      ]
     },
     "execution_count": 4,
     "metadata": {},
     "output_type": "execute_result"
    }
   ],
   "source": [
    "a = 1\n",
    "b = 2\n",
    "c = a + b\n",
    "c"
   ]
  },
  {
   "cell_type": "code",
   "execution_count": 5,
   "id": "6f2618fd-26a1-423f-a835-e7dcec58d31b",
   "metadata": {},
   "outputs": [],
   "source": [
    "b = 10"
   ]
  },
  {
   "cell_type": "code",
   "execution_count": 6,
   "id": "2fbe6f9b-27e8-4ce4-b2c2-8b62a39d084c",
   "metadata": {},
   "outputs": [
    {
     "data": {
      "text/plain": [
       "10"
      ]
     },
     "execution_count": 6,
     "metadata": {},
     "output_type": "execute_result"
    }
   ],
   "source": [
    "b"
   ]
  },
  {
   "cell_type": "code",
   "execution_count": 7,
   "id": "03525682-83af-41f6-8307-597eef107a44",
   "metadata": {},
   "outputs": [],
   "source": [
    "import time\n",
    "time.sleep(5)"
   ]
  },
  {
   "cell_type": "code",
   "execution_count": 7,
   "id": "1e83c9f3-def7-439c-9014-3f5e995daab1",
   "metadata": {},
   "outputs": [],
   "source": [
    "import time\n",
    "time.sleep(5)"
   ]
  },
  {
   "cell_type": "markdown",
   "id": "a57aa3ec-0575-46b1-88b3-cd46abfd4311",
   "metadata": {},
   "source": [
    "# 2、markdown的使用"
   ]
  },
  {
   "cell_type": "markdown",
   "id": "7b344468-ce6d-487c-9bdf-b44534efd3f1",
   "metadata": {},
   "source": [
    "# 一级标题\n",
    "## 二级标题\n",
    "### 三级标题\n",
    "#### 四级标题"
   ]
  },
  {
   "cell_type": "markdown",
   "id": "6d1f3a15-c392-4b7d-a632-39271ca39b8e",
   "metadata": {},
   "source": [
    "- 一级缩进\n",
    "     - 二级缩进\n",
    "         - 三级缩进"
   ]
  },
  {
   "cell_type": "code",
   "execution_count": null,
   "id": "f4f77c19-8cdc-434d-bec0-720962b04574",
   "metadata": {},
   "outputs": [],
   "source": []
  }
 ],
 "metadata": {
  "kernelspec": {
   "display_name": "Python 3 (ipykernel)",
   "language": "python",
   "name": "python3"
  },
  "language_info": {
   "codemirror_mode": {
    "name": "ipython",
    "version": 3
   },
   "file_extension": ".py",
   "mimetype": "text/x-python",
   "name": "python",
   "nbconvert_exporter": "python",
   "pygments_lexer": "ipython3",
   "version": "3.10.9"
  }
 },
 "nbformat": 4,
 "nbformat_minor": 5
}
